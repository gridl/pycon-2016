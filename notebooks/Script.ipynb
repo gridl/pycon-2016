{
 "cells": [
  {
   "cell_type": "markdown",
   "metadata": {
    "collapsed": true,
    "slideshow": {
     "slide_type": "slide"
    }
   },
   "source": [
    "<center>\n",
    "  <h1>Playing with Python Bytecode</h1><br><br>\n",
    "  <h3><a href=\"https://github.com/ssanderson/pycon-2016\">https://github.com/ssanderson/pycon-2016</a>\n",
    "  </h3><br>\n",
    "</center>"
   ]
  },
  {
   "cell_type": "code",
   "execution_count": 5,
   "metadata": {
    "collapsed": false,
    "scrolled": false,
    "slideshow": {
     "slide_type": "slide"
    }
   },
   "outputs": [
    {
     "data": {
      "text/plain": [
       "3"
      ]
     },
     "execution_count": 5,
     "metadata": {},
     "output_type": "execute_result"
    }
   ],
   "source": [
    "# (Open to Scott standing at podium, on title slide. Joe is hiding in the audience.)\n",
    "#\n",
    "# Scott: Hey everyone, thank you all for coming out today. We've just received word \n",
    "#        from Joe and Scott via text message that they're not going to be able to \n",
    "#        make it today due to a freak scheduling accident.  But we know that you were\n",
    "#        all super excited to learn about Python bytecode, so I'm gonna try to do my\n",
    "#        best to give the talk in their place.\n",
    "#\n",
    "# Scott: So, I took a look at their abstract a minute ago...\n",
    "# \n",
    "# Scott: \"Playing with Python Bytecode\"... in this talk we explain CPython's\n",
    "#        internal code representation, demonstrating techniques for modifying\n",
    "#        code objects.  We break down the attributes of Python's code type,\n",
    "#        showing how one might construct a function or module \"from scratch\".\n",
    "#\n",
    "# Scott: Okay, so it sounds like this talk is supposed to be about mucking \n",
    "#        with compiled Python functions.  I guess that means we need a function \n",
    "#        to muck with.\n",
    "\n",
    "def add(a, b):\n",
    "    return a + b\n",
    "add(1, 2)"
   ]
  },
  {
   "cell_type": "code",
   "execution_count": 6,
   "metadata": {
    "collapsed": false,
    "slideshow": {
     "slide_type": "slide"
    }
   },
   "outputs": [
    {
     "data": {
      "text/plain": [
       "b'|\\x00\\x00|\\x01\\x00\\x17S'"
      ]
     },
     "execution_count": 6,
     "metadata": {},
     "output_type": "execute_result"
    }
   ],
   "source": [
    "# Scott: We've got our add() function. There must be some way for us to access\n",
    "#        its bytecode if we're going to play with it.\n",
    "#        All the magic stuff in Python starts and ends with double\n",
    "#        underscores.  Maybe we can find the bytecode.\n",
    "\n",
    "# add.__<TAB>\n",
    "# add.__code__\n",
    "# add.__code__.co_<TAB>\n",
    "# add.__code__.co_argcount\n",
    "# add.__code__.co_consts\n",
    "add.__code__.co_code\n",
    "\n",
    "# Scott: These don't really look like printable characters.\n",
    "# Scott: Maybe we can understand these better if we look at the byte values as integers."
   ]
  },
  {
   "cell_type": "code",
   "execution_count": 7,
   "metadata": {
    "collapsed": false,
    "scrolled": false,
    "slideshow": {
     "slide_type": "slide"
    }
   },
   "outputs": [
    {
     "name": "stdout",
     "output_type": "stream",
     "text": [
      "[124, 0, 0, 124, 1, 0, 23, 83]\n",
      " 17           0 LOAD_FAST                0 (a)\n",
      "              3 LOAD_FAST                1 (b)\n",
      "              6 BINARY_ADD\n",
      "              7 RETURN_VALUE\n"
     ]
    }
   ],
   "source": [
    "print(list(add.__code__.co_code))\n",
    "\n",
    "# Scott: Hrm. There's definitely some structure here.  \n",
    "#        I see (124, 0, 0) followed by (124, 1, 0). Maybe one of\n",
    "#        these corresponds to 'a' and the other corresponds to 'b'?\n",
    "#        (confused noises)\n",
    "#\n",
    "# Scott: I think I'm a little out of my depth here.  Does anyone in the audience    \n",
    "#        know what this string means?\n",
    "#\n",
    "# Joe stands in audience, wearing a 'BYTECODE EXPERT' shirt.  \n",
    "# He turns to face the audience, looking around to see if anyone \n",
    "# else will answer the call to action.\n",
    "#    \n",
    "# After a moment, he shrugs and says:\n",
    "#\n",
    "# Joe: Well, I happen to be a Certified Bytecode Expert.\n",
    "#\n",
    "# Scott: Great, let's get him up here. Can we get a mic for him? (Joe is already mic'ed)\n",
    "#\n",
    "# Joe: It's okay, I brought my own.\n",
    "\n",
    "# (Joe scrambles up onto the stage.)\n",
    "\n",
    "# Scott: Wait, how do you already have a micro--\n",
    "\n",
    "# Joe: Let's keep on track here. You had the right idea about those LOADs.\n",
    "#      The integers in that list are the instructions\n",
    "#      that the interpreter executes when you call add().\n",
    "#      There's actually a built-in module for looking at bytecode.\n",
    "#      Why don't you import 'dis'?\n",
    "\n",
    "# import this\n",
    "\n",
    "# Scott: <starts reading>\n",
    "# Joe: No, not 'this': dis.  It's the 'disassembly' module.\n",
    "# Scott: Ah.\n",
    "\n",
    "import dis\n",
    "\n",
    "# Joe: You can do `dis.dis` of a function to show the disassembly.\n",
    "\n",
    "dis.dis(add)\n",
    "\n",
    "# Scott: What does all this mean?\n",
    "\n",
    "# Joe: The dis function prints a human-readable representation \n",
    "#      of the instructions in the code object.\n",
    "# \n",
    "#      1. There are 8 bytes in that code object, but there are only 4 instructions:\n",
    "#         LOAD_FAST, LOAD_FAST, BINARY_ADD, RETURN_VALUE.\n",
    "\n",
    "#      2. The first three bytes in the list correspond to the first LOAD_FAST. \n",
    "#         The second three bytes\n",
    "#         correspond to the second LOAD_FAST, the last two bytes correspond to the BINARY_ADD\n",
    "#         and RETURN_VALUE, respectively.\n",
    "\n",
    "# Scott: Why does LOAD_FAST get three bytes, but BINARY_ADD and RETURN_VALUE only get one?\n",
    "\n",
    "# Joe: 3. The two bytes after 124 are the **arguments** to the LOAD_FAST instruction. They\n",
    "#         tell the interpreter which local variable to load.  \n",
    "#         (124, 0, 0) says to load local variable zero.\n",
    "#         (124, 1, 0) says to load local variable one.\n",
    "#\n",
    "#      4. In general, whenever an instruction takes an argument, \n",
    "#         the next two bytes contain the argument to the instruction.\n",
    "\n",
    "# Scott: Why are those one and zero? Don't we want to load a and b.\n",
    "\n",
    "# Joe:   Argument instructions are usually represented as little-endian 16-bit integers.\n",
    "#        For instructions with an argument, the last two dis columns show the value of the\n",
    "#        argument as an integer followed by the actual meaning of the argument.\n",
    "#\n",
    "#        In this case, dis says the first local variable is 'a' and the second local \n",
    "#        variable is 'b'.\n",
    "\n",
    "# Scott: Okay. So LOAD_FAST of 0 tells Python to load 'a'. \n",
    "#        Where exactly are we loading it **to**?\n",
    "\n",
    "# Joe:   LOAD instructions push values onto a stack where they can be \n",
    "#        manipulated by other instructions. The BINARY_ADD instruction \n",
    "#        doesn't have an argument in the bytecode because it always pops \n",
    "#        the top two values off the stack, adds them, and pushes the result \n",
    "#        back onto the stack.\n",
    "\n",
    "# Scott: I think I understand:\n",
    "# \n",
    "#        At the start of the function the stack is empty, we load a and b, \n",
    "#        and then we get to the BINARY_ADD. When we execute the add, we\n",
    "#        pop 'a' and 'b' off the stack, add them together, \n",
    "#        and push the result back onto the stack. \n",
    "#        Finally, we hit the RETURN_VALUE instruction, which pops the top \n",
    "#        value off the stack and returns it to the caller.\n",
    "\n",
    "# Joe: Perf.\n",
    "\n",
    "# Scott: What are those numbers next to the instruction names?\n",
    "\n",
    "# Joe: Those tell you the index in the bytecode of the start of that instruction. \n",
    "#      The first instruction starts at index 0, and the second instruction starts at index 3\n",
    "#      because indices 1 and 2 were used for arguments.\n",
    "\n",
    "# Scott: And 6 and 7 are next to each other because BINARY_ADD is one-byte instruction?\n",
    "\n",
    "# Joe: Yep.\n",
    "\n",
    "# Scott: What's the number on the top left\n",
    "\n",
    "# Joe: That's the line number for the instructions on or below that line.\n",
    "#      It's a little easier to see on a function with multiple lines."
   ]
  },
  {
   "cell_type": "code",
   "execution_count": 8,
   "metadata": {
    "collapsed": false,
    "slideshow": {
     "slide_type": "slide"
    }
   },
   "outputs": [
    {
     "name": "stdout",
     "output_type": "stream",
     "text": [
      "  4           0 LOAD_FAST                0 (a)\n",
      "              3 LOAD_FAST                1 (b)\n",
      "              6 BINARY_ADD\n",
      "              7 STORE_FAST               2 (x)\n",
      "\n",
      "  5          10 LOAD_FAST                2 (x)\n",
      "             13 RETURN_VALUE\n"
     ]
    }
   ],
   "source": [
    "# Scott: Ok...how about this?\n",
    "\n",
    "def add_with_assign(a, b):\n",
    "    x = a + b\n",
    "    return x\n",
    "dis.dis(add_with_assign)\n",
    "\n",
    "# Scott: So this says that the first four instructions correspond to the fourth Python line,\n",
    "#        and the next two instructions correspond to the 5th Python line.\n",
    "\n",
    "# Joe: Yep. Why don't you try something a little more complex."
   ]
  },
  {
   "cell_type": "code",
   "execution_count": 9,
   "metadata": {
    "collapsed": false,
    "scrolled": true,
    "slideshow": {
     "slide_type": "slide"
    }
   },
   "outputs": [
    {
     "name": "stdout",
     "output_type": "stream",
     "text": [
      "  2           0 LOAD_FAST                0 (x)\n",
      "              3 LOAD_CONST               1 (0)\n",
      "              6 COMPARE_OP               4 (>)\n",
      "              9 POP_JUMP_IF_FALSE       16\n",
      "\n",
      "  3          12 LOAD_FAST                0 (x)\n",
      "             15 RETURN_VALUE\n",
      "\n",
      "  5     >>   16 LOAD_FAST                0 (x)\n",
      "             19 UNARY_NEGATIVE\n",
      "             20 RETURN_VALUE\n",
      "             21 LOAD_CONST               0 (None)\n",
      "             24 RETURN_VALUE\n"
     ]
    }
   ],
   "source": [
    "def abs(x):\n",
    "    if x > 0:\n",
    "        return x\n",
    "    else:\n",
    "        return -x\n",
    "dis.dis(abs)\n",
    "\n",
    "# Scott: <talk about LOAD_CONST> Argument is 1, but the value is zero.\n",
    "#        <talk about COMPARE_OP> How does Python know that 4 means \"greater than\"?\n",
    "\n",
    "# Joe: Not all instruction arguments are indices. \n",
    "#      COMPARE_OP takes an enum value as its argument.  \n",
    "#      There are entries for less than, equal, not equal, etc.\n",
    "#      That next instruction:\n",
    "#\n",
    "#      POP_JUMP_IF_FALSE does exactly what it says: it pops the top value off the stack and\n",
    "#      jumps to the instruction at the index of its argument if that value is falsey.\n",
    "#      Otherwise it continues onto the next instruction as normal.\n",
    "#\n",
    "# Scott: Okay. So when we get to the POP_JUMP_IF_FALSE, if the result of COMPARE_OP \n",
    "#        is truthy, we continue on to the next instruction. Otherwise, \n",
    "#        we jump to LOAD_FAST at index 16?\n",
    "\n",
    "# Joe: Yep. Those arrows are dis' way of noting that byte 16 is a jump target.\n",
    "\n",
    "# Scott: Okay. I think I understand the first branch, and I understand the second branch.\n",
    "#        What about the final LOAD_CONST/RETURN_VALUE? \n",
    "#        I don't think we can ever hit those instructions.\n",
    "\n",
    "# Joe: Yep, that's dead code.\n",
    "#      CPython uses a fairly simple code generation algorithm.  \n",
    "#      One of the rules is that if the body of a function doesn't end in a return statement, \n",
    "#      an implicit return of None is always inserted. In this case, even though it looks like\n",
    "#      our function ends in a return value, CPython considers the if-statement to be\n",
    "#      the last statement, so we get the dummy return even though it'll never be hit.\n",
    "\n",
    "# Scott: That seems kinda wasteful...\n",
    "\n",
    "# Joe: In most programs, an extra four unused bytes at the end of a function isn't a big deal.\n",
    "#      That's only half the size of a pointer.\n",
    "#      The CPython team decided that eliminating those four bytes isn't worth\n",
    "#      the additional complexity it would add to the compiler.\n",
    "\n",
    "# Scott: Okay, I guess that makes sense. \n",
    "#        Is there any way we could remove that code if we wanted to?\n",
    "\n",
    "# Joe: Well...you don't **have** to use the CPython compiler to make a code object. You can\n",
    "#      just construct one yourself like any other object."
   ]
  },
  {
   "cell_type": "code",
   "execution_count": 26,
   "metadata": {
    "collapsed": false,
    "slideshow": {
     "slide_type": "slide"
    }
   },
   "outputs": [],
   "source": [
    "# Scott: Alright, well, let's write our own abs then!\n",
    "# Joe:   Hold on there killer. Why don't I get you started with something a little \n",
    "#        simpler. How about addone?\n",
    "# Scott: Alright, fine.  Let's write it out in Python first so we know what we're going for:\n",
    "\n",
    "def addone(x):\n",
    "    return x + 1\n",
    "\n",
    "# Scott: Okay, so that's our target. You said I need to construct a code object.\n",
    "#        Where do I find a code constructor?\n",
    "\n",
    "# Joe:   The types module provides a CodeType.\n",
    "\n",
    "# from types import CodeType\n",
    "# print(CodeType.__doc__)\n",
    "\n",
    "# Scott: Not for the faint of heart...great.\n",
    "\n",
    "# my_code = CodeType(1, # argcount (Scott)\n",
    "#                    0, # kwonlyargcount (Scott)\n",
    "#                    1, # nlocals (Joe)\n",
    "#                    2, # stacksize (Joe)\n",
    "                   \n",
    "# Joe: stacksize tells Python how much space to allocate for storing values on the stack.\n",
    "#      We need enough slots to hold the maximum number of objects that ever \n",
    "#      will appear on the stack simultaneously.\n",
    "#\n",
    "# Scott: Okay, so, the biggest the stack is ever going to be is right before the add when\n",
    "#        both 'x' and 1 are on the stack. So the stacksize should be two.\n",
    "                   \n",
    "# Scott: The next entry is `flags`.  What's the deal with those?\n",
    "\n",
    "# Joe: `flags` is a bitmask of options for the code object.  \n",
    "#      I've prepared some material to illustrate the flags in depth.\n",
    "#      If you could be so kind as to press the down arrow on your keyboard.\n",
    "\n",
    "# Scott: (presses down, then looks up, a beat)\n",
    "# Scott: (confused sputtering)\n",
    "# Joe: (brushing off Scott's confusion) Let's keep on track here...if \n",
    "#      take a look at the slide, you can see that there's a lot of different options."
   ]
  },
  {
   "cell_type": "code",
   "execution_count": 15,
   "metadata": {
    "collapsed": true,
    "slideshow": {
     "slide_type": "subslide"
    }
   },
   "outputs": [],
   "source": [
    "# Used to determine if certain extra optimizations can be made.\n",
    "# In practice, means \"is this code for a function (as opposed to a module or class body)\".\n",
    "CO_OPTIMIZED          = 0x0001\n",
    "\n",
    "# Should a new locals dict be allocated every time this code is executed?\n",
    "CO_NEWLOCALS          = 0x0002\n",
    "\n",
    "CO_VARARGS            = 0x0004\n",
    "CO_VARKEYWORDS        = 0x0008\n",
    "\n",
    "# Are we defined inside another function?\n",
    "CO_NESTED             = 0x0010\n",
    "\n",
    "# Are we a generator?\n",
    "CO_GENERATOR          = 0x0020\n",
    "\n",
    "# Do we share any variable cells with another function.\n",
    "# We could infer this from other info on the code object,\n",
    "# but this used for optimization purposes by the interpreter.\n",
    "CO_NOFREE             = 0x0040\n",
    "\n",
    "# Are we an async-def'd coroutine or a types.coroutine?\n",
    "CO_COROUTINE          = 0x0080\n",
    "CO_ITERABLE_COROUTINE = 0x0100"
   ]
  },
  {
   "cell_type": "code",
   "execution_count": 22,
   "metadata": {
    "collapsed": true,
    "slideshow": {
     "slide_type": "subslide"
    }
   },
   "outputs": [],
   "source": [
    "# __future__ flags\n",
    "CO_FUTURE_DIVISION         = 0x2000\n",
    "CO_FUTURE_ABSOLUTE_IMPORT  = 0x4000\n",
    "CO_FUTURE_WITH_STATEMENT   = 0x8000\n",
    "CO_FUTURE_PRINT_FUNCTION   = 0x10000\n",
    "CO_FUTURE_UNICODE_LITERALS = 0x20000\n",
    "\n",
    "# Compiled with enhanced inequality syntax.\n",
    "CO_FUTURE_BARRY_AS_BDFL    = 0x40000\n",
    "\n",
    "# Python 3.5 backwards-compat flag.\n",
    "CO_FUTURE_GENERATOR_STOP   = 0x80000"
   ]
  },
  {
   "cell_type": "code",
   "execution_count": 17,
   "metadata": {
    "collapsed": false,
    "slideshow": {
     "slide_type": "slide"
    }
   },
   "outputs": [],
   "source": [
    "# code(argcount, kwonlyargcount, nlocals, stacksize, flags, codestring,\n",
    "#      constants, names, varnames, filename, name, firstlineno,\n",
    "#      lnotab[, freevars[, cellvars]])\n",
    "\n",
    "my_code = CodeType(1,             # argcount\n",
    "                   0,             # kwonlyargcount\n",
    "                   1,             # nlocals\n",
    "                   2,             # stacksize\n",
    "                   (CO_OPTIMIZED | CO_NEWLOCALS | CO_NOFREE),\n",
    "# (Resume Typing)\n",
    "                   bytes([124, 0, 0, 100, 0, 0, 23, 83]),\n",
    "                   (1,),          # constants\n",
    "                   (),            # names\n",
    "                   ('x',),        # varnames\n",
    "                   '<string>',    # filename\n",
    "                   'addone',      # name\n",
    "                   42,            # firstlineno\n",
    "                   b\"\",           # lnotab\n",
    "                   (),            # freevars\n",
    "                   ())            # cellvars\n",
    "\n",
    "# Scott: Okay, codestring. (types, 'bytes([])') What are our bytes?\n",
    "\n",
    "# Joe: (quickly, but not memorized) 124, 0, 0, 100, 0, 0, 23, 83\n",
    "\n",
    "# Scott: Could you elaborate a little bit on that?\n",
    "\n",
    "# Joe: Well, looking at our function, we need to load 'x', load 1, do a binary add, \n",
    "#      and then return the result. To load x, we need a LOAD_FAST instruction.\n",
    "#      The opcode for LOAD_FAST is 124. 'x' is the only local variable, so the argument is 0.\n",
    "#      Next we want to load 1 with a LOAD_CONST instruction. The opcode for LOAD_CONST is 100.\n",
    "#      We're only using one constant, so we can put the value 1 at index 0.\n",
    "#      We saw earlier that the opcodes for BINARY_ADD and RETURN_VALUE were 23 and 83.\n",
    "\n",
    "# Scott: It's impressive that you can just rattle that off.\n",
    "\n",
    "# Joe: Well, you should expect nothing less from a certified bytecode expert.\n",
    "\n",
    "# Scott: Okay. So if we're doing a LOAD_CONST of zero, I guess we want a tuple containing just one?\n",
    "\n",
    "# Joe: (thumbs up)\n",
    "\n",
    "# Scott: Okay, names?\n",
    "\n",
    "# Joe: Names should be a tuple containing the names of global variables and \n",
    "#      attributes that appear in the function.\n",
    "#      We don't have any, so you just want an empty tuple.\n",
    "\n",
    "# Scott: One empty tuple, coming right up. Okay...varnames. How is that different from names?\n",
    "\n",
    "# Joe: Varnames is a tuple containing the names of the local variables for the function, \n",
    "#      in the order that they're indexed by LOAD_FAST and STORE_FAST.\n",
    "\n",
    "# Scott: So that's just 'x'? (types `('x',))\n",
    "\n",
    "# Joe: (affirmative noises)\n",
    "\n",
    "# Joe: The next few entries don't really matter for a hand-written code object:\n",
    "#      filename is normally the name of the file where the code was defined.\n",
    "#      We don't have a file, but the convention for exec is the word 'string' \n",
    "#      in angle brackets. (Scott types)\n",
    "#      Next is the name of the code object. (Scott types 'addone')\n",
    "#      Then we have the first line number where the instructions appear. \n",
    "#      Pick your favorite number.\n",
    "#      After that is the line number table. It's a bytes object representing a mapping \n",
    "#      from instructions to their line number. We don't really care about line numbers here,\n",
    "#      so you can just put an empty bytes object.\n",
    "\n",
    "# Joe: Last but not least, we have the freevars and the cellvars. These are the names of \n",
    "#      variables that are shared with other functions. \n",
    "#      Since we set CO_NOFREE, those should be empty tuples. (Scott types)"
   ]
  },
  {
   "cell_type": "code",
   "execution_count": 23,
   "metadata": {
    "collapsed": false,
    "scrolled": true,
    "slideshow": {
     "slide_type": "slide"
    }
   },
   "outputs": [
    {
     "name": "stdout",
     "output_type": "stream",
     "text": [
      " 42           0 LOAD_FAST                0 (x)\n",
      "              3 LOAD_CONST               0 (1)\n",
      "              6 BINARY_ADD\n",
      "              7 RETURN_VALUE\n"
     ]
    }
   ],
   "source": [
    "dis.dis(my_code)"
   ]
  },
  {
   "cell_type": "code",
   "execution_count": 24,
   "metadata": {
    "collapsed": false,
    "slideshow": {
     "slide_type": "slide"
    }
   },
   "outputs": [
    {
     "ename": "TypeError",
     "evalue": "'code' object is not callable",
     "output_type": "error",
     "traceback": [
      "\u001b[1;31m---------------------------------------------------------------------------\u001b[0m",
      "\u001b[1;31mTypeError\u001b[0m                                 Traceback (most recent call last)",
      "\u001b[1;32m<ipython-input-24-754b43f0e17c>\u001b[0m in \u001b[0;36m<module>\u001b[1;34m()\u001b[0m\n\u001b[1;32m----> 1\u001b[1;33m \u001b[0mmy_code\u001b[0m\u001b[1;33m(\u001b[0m\u001b[1;36m1\u001b[0m\u001b[1;33m)\u001b[0m\u001b[1;33m\u001b[0m\u001b[0m\n\u001b[0m",
      "\u001b[1;31mTypeError\u001b[0m: 'code' object is not callable"
     ]
    }
   ],
   "source": [
    "my_code(1)"
   ]
  },
  {
   "cell_type": "code",
   "execution_count": 20,
   "metadata": {
    "collapsed": true,
    "slideshow": {
     "slide_type": "slide"
    }
   },
   "outputs": [],
   "source": [
    "from types import FunctionType\n",
    "FunctionType?\n",
    "\n",
    "my_addone = FunctionType(my_code, {})"
   ]
  },
  {
   "cell_type": "code",
   "execution_count": 21,
   "metadata": {
    "collapsed": false,
    "slideshow": {
     "slide_type": "slide"
    }
   },
   "outputs": [
    {
     "data": {
      "text/plain": [
       "2"
      ]
     },
     "execution_count": 21,
     "metadata": {},
     "output_type": "execute_result"
    }
   ],
   "source": [
    "my_addone(1)"
   ]
  },
  {
   "cell_type": "code",
   "execution_count": null,
   "metadata": {
    "collapsed": true,
    "slideshow": {
     "slide_type": "slide"
    }
   },
   "outputs": [],
   "source": []
  }
 ],
 "metadata": {
  "celltoolbar": "Slideshow",
  "kernelspec": {
   "display_name": "Python 3",
   "language": "python",
   "name": "python3"
  },
  "language_info": {
   "codemirror_mode": {
    "name": "ipython",
    "version": 3
   },
   "file_extension": ".py",
   "mimetype": "text/x-python",
   "name": "python",
   "nbconvert_exporter": "python",
   "pygments_lexer": "ipython3",
   "version": "3.5.1+"
  }
 },
 "nbformat": 4,
 "nbformat_minor": 0
}
