{
 "cells": [
  {
   "cell_type": "markdown",
   "metadata": {
    "collapsed": true,
    "slideshow": {
     "slide_type": "slide"
    }
   },
   "source": [
    "<center>\n",
    "  <h1>Playing with Python Bytecode</h1><br><br>\n",
    "  <h2>A Metatalk About Metaprogramming</h2><br><br>\n",
    "  <h3><a href=\"https://github.com/ssanderson/pycon-2016\">https://github.com/ssanderson/pycon-2016</a>\n",
    "  </h3><br>\n",
    "</center>"
   ]
  },
  {
   "cell_type": "code",
   "execution_count": 8,
   "metadata": {
    "collapsed": false,
    "scrolled": false,
    "slideshow": {
     "slide_type": "slide"
    }
   },
   "outputs": [
    {
     "data": {
      "text/plain": [
       "3"
      ]
     },
     "execution_count": 8,
     "metadata": {},
     "output_type": "execute_result"
    }
   ],
   "source": [
    "def add(a, b):\n",
    "    return a + b\n",
    "add(1, 2)"
   ]
  },
  {
   "cell_type": "code",
   "execution_count": 16,
   "metadata": {
    "collapsed": false,
    "slideshow": {
     "slide_type": "slide"
    }
   },
   "outputs": [
    {
     "data": {
      "text/plain": [
       "b'|\\x00\\x00|\\x01\\x00\\x17S'"
      ]
     },
     "execution_count": 16,
     "metadata": {},
     "output_type": "execute_result"
    }
   ],
   "source": [
    "# add.__code__\n",
    "# add.__code__.co_<TAB>\n",
    "# add.__code__.co_argcount\n",
    "# add.__code__.co_varnames\n",
    "# add.__code__.co_lnotab\n",
    "# add.__code__.co_flags (that makes sense)\n",
    "add.__code__.co_code"
   ]
  },
  {
   "cell_type": "code",
   "execution_count": 54,
   "metadata": {
    "collapsed": false,
    "slideshow": {
     "slide_type": "slide"
    }
   },
   "outputs": [
    {
     "name": "stdout",
     "output_type": "stream",
     "text": [
      "[124, 0, 0, 124, 1, 0, 23, 83]\n",
      "\n",
      "  2           0 LOAD_FAST                0 (a)\n",
      "              3 LOAD_FAST                1 (b)\n",
      "              6 BINARY_ADD\n",
      "              7 RETURN_VALUE\n"
     ]
    }
   ],
   "source": [
    "# import this\n",
    "# import dis\n",
    "\n",
    "print(list(add.__code__.co_code))\n",
    "print()\n",
    "dis.dis(add)"
   ]
  },
  {
   "cell_type": "code",
   "execution_count": 29,
   "metadata": {
    "collapsed": false,
    "slideshow": {
     "slide_type": "slide"
    }
   },
   "outputs": [
    {
     "name": "stdout",
     "output_type": "stream",
     "text": [
      "  2           0 LOAD_FAST                0 (a)\n",
      "              3 LOAD_FAST                1 (b)\n",
      "              6 BINARY_ADD\n",
      "              7 STORE_FAST               2 (x)\n",
      "\n",
      "  3          10 LOAD_FAST                2 (x)\n",
      "             13 RETURN_VALUE\n"
     ]
    }
   ],
   "source": [
    "def add_with_assign(a, b):\n",
    "    x = a + b\n",
    "    return x\n",
    "dis.dis(add_with_assign)"
   ]
  },
  {
   "cell_type": "code",
   "execution_count": 43,
   "metadata": {
    "collapsed": false,
    "slideshow": {
     "slide_type": "slide"
    }
   },
   "outputs": [
    {
     "name": "stdout",
     "output_type": "stream",
     "text": [
      "  2           0 LOAD_FAST                0 (x)\n",
      "              3 LOAD_CONST               1 (0)\n",
      "              6 COMPARE_OP               4 (>)\n",
      "              9 POP_JUMP_IF_FALSE       16\n",
      "\n",
      "  3          12 LOAD_FAST                0 (x)\n",
      "             15 RETURN_VALUE\n",
      "\n",
      "  5     >>   16 LOAD_FAST                0 (x)\n",
      "             19 UNARY_NEGATIVE\n",
      "             20 RETURN_VALUE\n",
      "             21 LOAD_CONST               0 (None)\n",
      "             24 RETURN_VALUE\n"
     ]
    }
   ],
   "source": [
    "def abs(x):\n",
    "    if x > 0:\n",
    "        return x\n",
    "    else:\n",
    "        return -x\n",
    "dis.dis(abs)"
   ]
  },
  {
   "cell_type": "code",
   "execution_count": 44,
   "metadata": {
    "collapsed": true,
    "slideshow": {
     "slide_type": "slide"
    }
   },
   "outputs": [],
   "source": [
    "# Scott: Well that seems wasteful. I want to make my own!\n",
    "# Joe:   Hold on there killer.  Before we dive into making our own abs(), why don't\n",
    "#        you start with something a bit simpler first.\n",
    "# Scott: Alright, I'll write addone.\n",
    "def addone(x):\n",
    "    return x + 1"
   ]
  },
  {
   "cell_type": "code",
   "execution_count": 55,
   "metadata": {
    "collapsed": true,
    "slideshow": {
     "slide_type": "slide"
    }
   },
   "outputs": [],
   "source": [
    "# Scott: Okay, so no,w I guess I need to make a code object...how do I do that?\n",
    "# Joe:   Well, you could just call type(addone.__code__), but there's a 'types' module that \n",
    "#        exports all the builtin types.\n",
    "from types import CodeType\n",
    "CodeType?"
   ]
  },
  {
   "cell_type": "code",
   "execution_count": null,
   "metadata": {
    "collapsed": true,
    "slideshow": {
     "slide_type": "slide"
    }
   },
   "outputs": [],
   "source": [
    "# def addone(x):\n",
    "#     return x + 1\n",
    "my_code = CodeType(1, # argcount\n",
    "                   0, # kwonlyargcount\n",
    "                   1, # nlocals\n",
    "                   2, # stacksize\n",
    "                    "
   ]
  },
  {
   "cell_type": "markdown",
   "metadata": {
    "slideshow": {
     "slide_type": "subslide"
    }
   },
   "source": [
    "Flags Slide"
   ]
  },
  {
   "cell_type": "code",
   "execution_count": 57,
   "metadata": {
    "collapsed": true,
    "slideshow": {
     "slide_type": "slide"
    }
   },
   "outputs": [],
   "source": [
    "# def addone(x):\n",
    "#     return x + 1\n",
    "my_code = CodeType(1,             # argcount\n",
    "                   0,             # kwonlyargcount\n",
    "                   1,             # nlocals\n",
    "                   2,             # stacksize\n",
    "                   (0x0001 | 0x0002 | 0x0040),\n",
    "# Resume Typing\n",
    "                   bytes([124, 0, 0, 100, 0, 0, 23, 83]),\n",
    "                   (1,),          # constants\n",
    "                   (),            # names\n",
    "                   ('x',),        # varnames\n",
    "                   '<string>',    # filename\n",
    "                   'addone',      # name\n",
    "                   1,             # firstlineno\n",
    "                   bytes([0, 1])) # lnotab"
   ]
  },
  {
   "cell_type": "code",
   "execution_count": 58,
   "metadata": {
    "collapsed": false,
    "scrolled": true,
    "slideshow": {
     "slide_type": "slide"
    }
   },
   "outputs": [
    {
     "name": "stdout",
     "output_type": "stream",
     "text": [
      "  2           0 LOAD_FAST                0 (x)\n",
      "              3 LOAD_CONST               0 (1)\n",
      "              6 BINARY_ADD\n",
      "              7 RETURN_VALUE\n"
     ]
    }
   ],
   "source": [
    "dis.dis(my_code)"
   ]
  },
  {
   "cell_type": "code",
   "execution_count": 60,
   "metadata": {
    "collapsed": false,
    "slideshow": {
     "slide_type": "slide"
    }
   },
   "outputs": [
    {
     "ename": "TypeError",
     "evalue": "'code' object is not callable",
     "output_type": "error",
     "traceback": [
      "\u001b[1;31m---------------------------------------------------------------------------\u001b[0m",
      "\u001b[1;31mTypeError\u001b[0m                                 Traceback (most recent call last)",
      "\u001b[1;32m<ipython-input-60-754b43f0e17c>\u001b[0m in \u001b[0;36m<module>\u001b[1;34m()\u001b[0m\n\u001b[1;32m----> 1\u001b[1;33m \u001b[0mmy_code\u001b[0m\u001b[1;33m(\u001b[0m\u001b[1;36m1\u001b[0m\u001b[1;33m)\u001b[0m\u001b[1;33m\u001b[0m\u001b[0m\n\u001b[0m",
      "\u001b[1;31mTypeError\u001b[0m: 'code' object is not callable"
     ]
    }
   ],
   "source": [
    "my_code(1)"
   ]
  },
  {
   "cell_type": "code",
   "execution_count": 62,
   "metadata": {
    "collapsed": true,
    "slideshow": {
     "slide_type": "slide"
    }
   },
   "outputs": [],
   "source": [
    "from types import FunctionType\n",
    "FunctionType?\n",
    "\n",
    "my_addone = FunctionType(my_code, {})"
   ]
  },
  {
   "cell_type": "code",
   "execution_count": 63,
   "metadata": {
    "collapsed": false,
    "slideshow": {
     "slide_type": "slide"
    }
   },
   "outputs": [
    {
     "data": {
      "text/plain": [
       "2"
      ]
     },
     "execution_count": 63,
     "metadata": {},
     "output_type": "execute_result"
    }
   ],
   "source": [
    "my_addone(1)"
   ]
  },
  {
   "cell_type": "code",
   "execution_count": null,
   "metadata": {
    "collapsed": true,
    "slideshow": {
     "slide_type": "slide"
    }
   },
   "outputs": [],
   "source": []
  }
 ],
 "metadata": {
  "celltoolbar": "Slideshow",
  "kernelspec": {
   "display_name": "Python 3",
   "language": "python",
   "name": "python3"
  },
  "language_info": {
   "codemirror_mode": {
    "name": "ipython",
    "version": 3
   },
   "file_extension": ".py",
   "mimetype": "text/x-python",
   "name": "python",
   "nbconvert_exporter": "python",
   "pygments_lexer": "ipython3",
   "version": "3.5.1+"
  }
 },
 "nbformat": 4,
 "nbformat_minor": 0
}
