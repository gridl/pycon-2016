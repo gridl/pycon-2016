{
 "cells": [
  {
   "cell_type": "markdown",
   "metadata": {
    "collapsed": true,
    "slideshow": {
     "slide_type": "slide"
    }
   },
   "source": [
    "<center>\n",
    "  <h2>Playing with Python Bytecode</h2><br><br>\n",
    "</center>"
   ]
  },
  {
   "cell_type": "code",
   "execution_count": null,
   "metadata": {
    "collapsed": false,
    "scrolled": false,
    "slideshow": {
     "slide_type": "slide"
    }
   },
   "outputs": [],
   "source": []
  },
  {
   "cell_type": "code",
   "execution_count": null,
   "metadata": {
    "collapsed": false,
    "slideshow": {
     "slide_type": "slide"
    }
   },
   "outputs": [],
   "source": []
  },
  {
   "cell_type": "code",
   "execution_count": null,
   "metadata": {
    "collapsed": false,
    "scrolled": false,
    "slideshow": {
     "slide_type": "slide"
    }
   },
   "outputs": [],
   "source": []
  },
  {
   "cell_type": "code",
   "execution_count": null,
   "metadata": {
    "collapsed": false,
    "slideshow": {
     "slide_type": "slide"
    }
   },
   "outputs": [],
   "source": []
  },
  {
   "cell_type": "code",
   "execution_count": null,
   "metadata": {
    "collapsed": false,
    "slideshow": {
     "slide_type": "slide"
    }
   },
   "outputs": [],
   "source": []
  },
  {
   "cell_type": "code",
   "execution_count": 1,
   "metadata": {
    "collapsed": true,
    "slideshow": {
     "slide_type": "subslide"
    }
   },
   "outputs": [],
   "source": [
    "CO_OPTIMIZED          = 0x0001\n",
    "CO_NEWLOCALS          = 0x0002\n",
    "CO_VARARGS            = 0x0004\n",
    "CO_VARKEYWORDS        = 0x0008\n",
    "CO_NESTED             = 0x0010\n",
    "CO_GENERATOR          = 0x0020\n",
    "CO_NOFREE             = 0x0040\n",
    "CO_COROUTINE          = 0x0080\n",
    "CO_ITERABLE_COROUTINE = 0x0100"
   ]
  },
  {
   "cell_type": "code",
   "execution_count": 2,
   "metadata": {
    "collapsed": true,
    "slideshow": {
     "slide_type": "subslide"
    }
   },
   "outputs": [],
   "source": [
    "CO_FUTURE_DIVISION         = 0x2000\n",
    "CO_FUTURE_ABSOLUTE_IMPORT  = 0x4000\n",
    "CO_FUTURE_WITH_STATEMENT   = 0x8000\n",
    "CO_FUTURE_PRINT_FUNCTION   = 0x10000\n",
    "CO_FUTURE_UNICODE_LITERALS = 0x20000\n",
    "CO_FUTURE_BARRY_AS_BDFL    = 0x40000\n",
    "CO_FUTURE_GENERATOR_STOP   = 0x80000"
   ]
  },
  {
   "cell_type": "code",
   "execution_count": null,
   "metadata": {
    "collapsed": false,
    "slideshow": {
     "slide_type": "slide"
    }
   },
   "outputs": [],
   "source": [
    "# code(argcount, kwonlyargcount, nlocals, stacksize, flags, \n",
    "#      codestring, constants, names, varnames, filename, name, \n",
    "#      firstlineno, lnotab[, freevars[, cellvars]])\n",
    "\n",
    "my_code = CodeType(1,             # argcount \n",
    "                   0,             # kwonlyargcount\n",
    "                   1,             # nlocals\n",
    "                   2,             # stacksize\n",
    "                   (CO_OPTIMIZED | CO_NEWLOCALS | CO_NOFREE),"
   ]
  },
  {
   "cell_type": "code",
   "execution_count": null,
   "metadata": {
    "collapsed": false,
    "slideshow": {
     "slide_type": "slide"
    }
   },
   "outputs": [],
   "source": []
  },
  {
   "cell_type": "code",
   "execution_count": null,
   "metadata": {
    "collapsed": false,
    "slideshow": {
     "slide_type": "slide"
    }
   },
   "outputs": [],
   "source": []
  },
  {
   "cell_type": "code",
   "execution_count": null,
   "metadata": {
    "collapsed": false,
    "slideshow": {
     "slide_type": "slide"
    }
   },
   "outputs": [],
   "source": []
  },
  {
   "cell_type": "code",
   "execution_count": null,
   "metadata": {
    "collapsed": false,
    "slideshow": {
     "slide_type": "slide"
    }
   },
   "outputs": [],
   "source": []
  },
  {
   "cell_type": "code",
   "execution_count": null,
   "metadata": {
    "collapsed": false,
    "slideshow": {
     "slide_type": "slide"
    }
   },
   "outputs": [],
   "source": []
  },
  {
   "cell_type": "code",
   "execution_count": 1,
   "metadata": {
    "collapsed": true,
    "slideshow": {
     "slide_type": "slide"
    }
   },
   "outputs": [],
   "source": [
    "def update(f, **kwds):\n",
    "    \"A function that performs a functional update on a function.\"\n",
    "    old = f.__code__\n",
    "    attrs = [\n",
    "        'co_argcount', 'co_kwonlyargcount', 'co_nlocals', \n",
    "        'co_stacksize', 'co_flags', 'co_code', 'co_consts', \n",
    "        'co_names', 'co_varnames', 'co_filename', 'co_name', \n",
    "        'co_firstlineno', 'co_lnotab', 'co_freevars', 'co_cellvars',\n",
    "    ]\n",
    "    new = CodeType(*(kwds.get(a, getattr(old, a)) for a in attrs))\n",
    "    \n",
    "    return FunctionType(\n",
    "        new, \n",
    "        f.__globals__, f.__name__, f.__defaults__, f.__closure__,\n",
    "    )"
   ]
  },
  {
   "cell_type": "code",
   "execution_count": null,
   "metadata": {
    "collapsed": false,
    "slideshow": {
     "slide_type": "slide"
    }
   },
   "outputs": [],
   "source": []
  },
  {
   "cell_type": "code",
   "execution_count": null,
   "metadata": {
    "collapsed": false,
    "slideshow": {
     "slide_type": "slide"
    }
   },
   "outputs": [],
   "source": []
  },
  {
   "cell_type": "code",
   "execution_count": 4,
   "metadata": {
    "collapsed": false,
    "slideshow": {
     "slide_type": "slide"
    }
   },
   "outputs": [],
   "source": [
    "from string import ascii_lowercase\n",
    "\n",
    "def get_x(a, b, c, d, e, f, g, h, i, j, k, l, m, \n",
    "          n, o, p, q, r, s, t, u, v, w, x, y, z):\n",
    "    \"A function with **26** local variables.\"\n",
    "    return x"
   ]
  },
  {
   "cell_type": "code",
   "execution_count": null,
   "metadata": {
    "collapsed": false,
    "slideshow": {
     "slide_type": "slide"
    }
   },
   "outputs": [],
   "source": []
  },
  {
   "cell_type": "code",
   "execution_count": null,
   "metadata": {
    "collapsed": false,
    "slideshow": {
     "slide_type": "slide"
    }
   },
   "outputs": [],
   "source": []
  },
  {
   "cell_type": "markdown",
   "metadata": {
    "slideshow": {
     "slide_type": "slide"
    }
   },
   "source": [
    "<div style=\"position:absolute; left: 250px; top:-200px\">\n",
    "  <h2>Who are we?</h2>\n",
    "  <ul>\n",
    "    <li>We work at Quantopian.</li>\n",
    "    <li>GitHub:</li>\n",
    "      <ul>\n",
    "        <li>github.com/ssanderson</li>\n",
    "        <li>github.com/llllllllll (10 lower-case L's)</li>\n",
    "      </ul>\n",
    "    <li>Twitter:</li>\n",
    "      <ul>\n",
    "        <li>@ssanderson</li>\n",
    "        <li>@\\_\\_qualname\\_\\_</li>\n",
    "      </ul>\n",
    "  </ul>\n",
    "</div>"
   ]
  }
 ],
 "metadata": {
  "celltoolbar": "Slideshow",
  "kernelspec": {
   "display_name": "Python 3",
   "language": "python",
   "name": "python3"
  },
  "language_info": {
   "codemirror_mode": {
    "name": "ipython",
    "version": 3
   },
   "file_extension": ".py",
   "mimetype": "text/x-python",
   "name": "python",
   "nbconvert_exporter": "python",
   "pygments_lexer": "ipython3",
   "version": "3.5.1+"
  }
 },
 "nbformat": 4,
 "nbformat_minor": 0
}
